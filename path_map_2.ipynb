{
 "cells": [
  {
   "cell_type": "code",
   "execution_count": null,
   "metadata": {},
   "outputs": [],
   "source": [
    "from utils.map2 import Map\n",
    "map = Map(location='Envigado, Antioquia, Colombia', simplify=False)\n",
    "map.set_data()\n",
    "start_node, end_node = map.set_route('Sede Posgrados EIA', 'Universidad EIA, Envigado, Colombia')\n",
    "route = map.shortest_route(start_node, end_node)\n",
    "map.display_interactive_route(route, start_node, end_node)\n"
   ]
  },
  {
   "cell_type": "code",
   "execution_count": null,
   "metadata": {},
   "outputs": [],
   "source": []
  }
 ],
 "metadata": {
  "language_info": {
   "name": "python"
  }
 },
 "nbformat": 4,
 "nbformat_minor": 2
}
